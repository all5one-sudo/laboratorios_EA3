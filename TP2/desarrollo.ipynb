{
 "cells": [
  {
   "cell_type": "markdown",
   "metadata": {},
   "source": [
    "# Desarrollo"
   ]
  },
  {
   "cell_type": "markdown",
   "metadata": {},
   "source": [
    "## Diseño de acoples"
   ]
  },
  {
   "cell_type": "markdown",
   "metadata": {},
   "source": [
    "El siguiente es el diseño para las microtiras que acoplarán el amplificador a $50 \\Omega$."
   ]
  },
  {
   "cell_type": "code",
   "execution_count": 2,
   "metadata": {},
   "outputs": [],
   "source": [
    "from hammerstad import *\n",
    "import numpy as np\n",
    "import matplotlib.pyplot as plt\n",
    "from adapt_imp import *"
   ]
  },
  {
   "cell_type": "markdown",
   "metadata": {},
   "source": [
    "Se toma como referencia un $\\epsilon_r = 4.15$ para un material FR4."
   ]
  },
  {
   "cell_type": "code",
   "execution_count": 3,
   "metadata": {},
   "outputs": [],
   "source": [
    "er = 4.15 # Relative permittivity\n",
    "Zo = 50 # Ohm\n",
    "H = 1.6e-3 # mm\n",
    "t = 35e-6"
   ]
  },
  {
   "cell_type": "markdown",
   "metadata": {},
   "source": [
    "Se comienza calculando el ratio $\\frac{W}{H}$."
   ]
  },
  {
   "cell_type": "code",
   "execution_count": 4,
   "metadata": {},
   "outputs": [
    {
     "data": {
      "text/plain": [
       "1.9967298570941503"
      ]
     },
     "execution_count": 4,
     "metadata": {},
     "output_type": "execute_result"
    }
   ],
   "source": [
    "WH = get_WH(Zo,er)\n",
    "WH"
   ]
  },
  {
   "cell_type": "markdown",
   "metadata": {},
   "source": [
    "Resta calcular el $W$ efectivo."
   ]
  },
  {
   "cell_type": "code",
   "execution_count": 5,
   "metadata": {},
   "outputs": [
    {
     "data": {
      "text/plain": [
       "0.0031947677713506407"
      ]
     },
     "execution_count": 5,
     "metadata": {},
     "output_type": "execute_result"
    }
   ],
   "source": [
    "W = WH*H\n",
    "W"
   ]
  },
  {
   "cell_type": "code",
   "execution_count": 6,
   "metadata": {},
   "outputs": [
    {
     "data": {
      "text/plain": [
       "0.0032562157540274713"
      ]
     },
     "execution_count": 6,
     "metadata": {},
     "output_type": "execute_result"
    }
   ],
   "source": [
    "We = get_W_efectivo(W,H,t)\n",
    "We"
   ]
  },
  {
   "cell_type": "markdown",
   "metadata": {},
   "source": [
    "Se obtiene $W_e=3.26 \\ mm$. Ahora hay que buscar $\\epsilon_r'$."
   ]
  },
  {
   "cell_type": "code",
   "execution_count": 7,
   "metadata": {},
   "outputs": [
    {
     "data": {
      "text/plain": [
       "3.1698766519288357"
      ]
     },
     "execution_count": 7,
     "metadata": {},
     "output_type": "execute_result"
    }
   ],
   "source": [
    "erf = get_permitividad_efectiva(WH,er)\n",
    "erf"
   ]
  },
  {
   "cell_type": "markdown",
   "metadata": {},
   "source": [
    "Y finalmente corroborar $Z_0$."
   ]
  },
  {
   "cell_type": "code",
   "execution_count": 8,
   "metadata": {},
   "outputs": [
    {
     "data": {
      "text/plain": [
       "50.248434379498356"
      ]
     },
     "execution_count": 8,
     "metadata": {},
     "output_type": "execute_result"
    }
   ],
   "source": [
    "z0 = get_impedancia_caracteristica(WH,erf)\n",
    "z0"
   ]
  },
  {
   "cell_type": "markdown",
   "metadata": {},
   "source": [
    "Se va a trabajar a una $f=1.8 \\ GHz$."
   ]
  },
  {
   "cell_type": "code",
   "execution_count": 9,
   "metadata": {},
   "outputs": [
    {
     "data": {
      "text/plain": [
       "0.16666666666666666"
      ]
     },
     "execution_count": 9,
     "metadata": {},
     "output_type": "execute_result"
    }
   ],
   "source": [
    "lda = 300/1800\n",
    "lda"
   ]
  },
  {
   "cell_type": "code",
   "execution_count": 10,
   "metadata": {},
   "outputs": [
    {
     "data": {
      "text/plain": [
       "0.09361114732265245"
      ]
     },
     "execution_count": 10,
     "metadata": {},
     "output_type": "execute_result"
    }
   ],
   "source": [
    "lde = lda/np.sqrt(erf)\n",
    "lde"
   ]
  },
  {
   "cell_type": "markdown",
   "metadata": {},
   "source": [
    "Para la linea que une al generador con el amplificador, se tiene:"
   ]
  },
  {
   "cell_type": "code",
   "execution_count": 11,
   "metadata": {},
   "outputs": [
    {
     "name": "stdout",
     "output_type": "stream",
     "text": [
      "Longitud del adaptador stub: 0.01938445602611267\n",
      "Impedancia caracteristica del transformador lambda/4: 28.526020945230723\n"
     ]
    }
   ],
   "source": [
    "Zin = np.conj((6.82-8.03j))\n",
    "Zout = np.conj((21.71+7.57j))\n",
    "\n",
    "d1, Zl41 = s_L4_stub_in(Zin,50,Zo,lde)\n",
    "print('Longitud del adaptador stub:',d1)\n",
    "print('Impedancia caracteristica del transformador lambda/4:',Zl41)"
   ]
  },
  {
   "cell_type": "markdown",
   "metadata": {},
   "source": [
    "Ahora, para la salida del amplificador."
   ]
  },
  {
   "cell_type": "code",
   "execution_count": 12,
   "metadata": {},
   "outputs": [
    {
     "name": "stdout",
     "output_type": "stream",
     "text": [
      "Longitud del adaptador stub: 0.004998578261338278\n",
      "Impedancia caracteristica del transformador lambda/4: 32.94692701907114\n"
     ]
    }
   ],
   "source": [
    "d2, Zl42 = out_L4_stub_l(Zout,50,Zo,lde)\n",
    "print('Longitud del adaptador stub:',d2)\n",
    "print('Impedancia caracteristica del transformador lambda/4:',Zl42)"
   ]
  },
  {
   "cell_type": "markdown",
   "metadata": {},
   "source": [
    "Ahora, se calculan los dos adaptadores de $\\lambda /4$. Para eso se calculan como microtiras, en donde se usa la impedancia característica recién obtenida. Para el adaptador que va entre la entrada y el amplificador, se tiene:"
   ]
  },
  {
   "cell_type": "code",
   "execution_count": 15,
   "metadata": {},
   "outputs": [
    {
     "data": {
      "text/plain": [
       "0.02259235736571817"
      ]
     },
     "execution_count": 15,
     "metadata": {},
     "output_type": "execute_result"
    }
   ],
   "source": [
    "WH1 = get_WH(Zl41,er)\n",
    "W1 = WH1*H\n",
    "We1 = get_W_efectivo(W1,H,t)\n",
    "erf1 = get_permitividad_efectiva(WH1,er)\n",
    "lde1 = lda/np.sqrt(erf1)\n",
    "l1 = lde1/4\n",
    "l1"
   ]
  },
  {
   "cell_type": "markdown",
   "metadata": {},
   "source": [
    "El ancho de la microtira entre el acople de entrada y el amplificador es:"
   ]
  },
  {
   "cell_type": "code",
   "execution_count": 17,
   "metadata": {},
   "outputs": [
    {
     "data": {
      "text/plain": [
       "0.007293402083030762"
      ]
     },
     "execution_count": 17,
     "metadata": {},
     "output_type": "execute_result"
    }
   ],
   "source": [
    "W1"
   ]
  },
  {
   "cell_type": "markdown",
   "metadata": {},
   "source": [
    "Y su longitud de onda efectiva:"
   ]
  },
  {
   "cell_type": "code",
   "execution_count": 19,
   "metadata": {},
   "outputs": [
    {
     "data": {
      "text/plain": [
       "0.09036942946287269"
      ]
     },
     "execution_count": 19,
     "metadata": {},
     "output_type": "execute_result"
    }
   ],
   "source": [
    "lde1"
   ]
  },
  {
   "cell_type": "markdown",
   "metadata": {},
   "source": [
    "De ser necesario, cada una de las microtiras calculadas puede alargarse en un factor $\\lambda/2$, ya que se representa de esa forma la periodicidad en la carta de Smith. Ahora se sigue con la segunda microtira, la que aparece entre el amplificador y el acople de salida."
   ]
  },
  {
   "cell_type": "code",
   "execution_count": 16,
   "metadata": {},
   "outputs": [
    {
     "data": {
      "text/plain": [
       "0.0227880988769765"
      ]
     },
     "execution_count": 16,
     "metadata": {},
     "output_type": "execute_result"
    }
   ],
   "source": [
    "WH2 = get_WH(Zl42,er)\n",
    "W2 = WH2*H\n",
    "We2 = get_W_efectivo(W2,H,t)\n",
    "erf2 = get_permitividad_efectiva(WH2,er)\n",
    "lde2 = lda/np.sqrt(erf2)\n",
    "l2 = lde2/4\n",
    "l2"
   ]
  },
  {
   "cell_type": "markdown",
   "metadata": {},
   "source": [
    "El ancho es:"
   ]
  },
  {
   "cell_type": "code",
   "execution_count": 18,
   "metadata": {},
   "outputs": [
    {
     "data": {
      "text/plain": [
       "0.005993255609842166"
      ]
     },
     "execution_count": 18,
     "metadata": {},
     "output_type": "execute_result"
    }
   ],
   "source": [
    "W2"
   ]
  },
  {
   "cell_type": "markdown",
   "metadata": {},
   "source": [
    "Y su longitud de onda efectiva:"
   ]
  },
  {
   "cell_type": "code",
   "execution_count": 20,
   "metadata": {},
   "outputs": [
    {
     "data": {
      "text/plain": [
       "0.091152395507906"
      ]
     },
     "execution_count": 20,
     "metadata": {},
     "output_type": "execute_result"
    }
   ],
   "source": [
    "lde2"
   ]
  }
 ],
 "metadata": {
  "kernelspec": {
   "display_name": "base",
   "language": "python",
   "name": "python3"
  },
  "language_info": {
   "codemirror_mode": {
    "name": "ipython",
    "version": 3
   },
   "file_extension": ".py",
   "mimetype": "text/x-python",
   "name": "python",
   "nbconvert_exporter": "python",
   "pygments_lexer": "ipython3",
   "version": "3.8.5"
  }
 },
 "nbformat": 4,
 "nbformat_minor": 2
}
